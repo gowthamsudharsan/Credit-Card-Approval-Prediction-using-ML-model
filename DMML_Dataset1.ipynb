{
 "cells": [
  {
   "cell_type": "code",
   "execution_count": 2,
   "id": "d3ab5d5c-a31f-44e0-a88c-6afba31c97ed",
   "metadata": {},
   "outputs": [
    {
     "name": "stdout",
     "output_type": "stream",
     "text": [
      "No missing values detected.\n"
     ]
    },
    {
     "name": "stderr",
     "output_type": "stream",
     "text": [
      "N:\\Anaconda\\Lib\\site-packages\\sklearn\\metrics\\_classification.py:1509: UndefinedMetricWarning: Precision is ill-defined and being set to 0.0 in labels with no predicted samples. Use `zero_division` parameter to control this behavior.\n",
      "  _warn_prf(average, modifier, f\"{metric.capitalize()} is\", len(result))\n",
      "N:\\Anaconda\\Lib\\site-packages\\sklearn\\metrics\\_classification.py:1509: UndefinedMetricWarning: Precision is ill-defined and being set to 0.0 in labels with no predicted samples. Use `zero_division` parameter to control this behavior.\n",
      "  _warn_prf(average, modifier, f\"{metric.capitalize()} is\", len(result))\n",
      "N:\\Anaconda\\Lib\\site-packages\\sklearn\\metrics\\_classification.py:1509: UndefinedMetricWarning: Precision is ill-defined and being set to 0.0 in labels with no predicted samples. Use `zero_division` parameter to control this behavior.\n",
      "  _warn_prf(average, modifier, f\"{metric.capitalize()} is\", len(result))\n",
      "N:\\Anaconda\\Lib\\site-packages\\sklearn\\metrics\\_classification.py:1509: UndefinedMetricWarning: Precision is ill-defined and being set to 0.0 in labels with no predicted samples. Use `zero_division` parameter to control this behavior.\n",
      "  _warn_prf(average, modifier, f\"{metric.capitalize()} is\", len(result))\n",
      "N:\\Anaconda\\Lib\\site-packages\\sklearn\\metrics\\_classification.py:1509: UndefinedMetricWarning: Precision is ill-defined and being set to 0.0 in labels with no predicted samples. Use `zero_division` parameter to control this behavior.\n",
      "  _warn_prf(average, modifier, f\"{metric.capitalize()} is\", len(result))\n",
      "N:\\Anaconda\\Lib\\site-packages\\sklearn\\metrics\\_classification.py:1509: UndefinedMetricWarning: Precision is ill-defined and being set to 0.0 in labels with no predicted samples. Use `zero_division` parameter to control this behavior.\n",
      "  _warn_prf(average, modifier, f\"{metric.capitalize()} is\", len(result))\n"
     ]
    },
    {
     "name": "stdout",
     "output_type": "stream",
     "text": [
      "Random Forest Cross-Validation Accuracy: 0.86724\n",
      "SVM Cross-Validation Accuracy: 0.86785\n",
      "\n",
      "Report: \n",
      "               precision    recall  f1-score   support\n",
      "\n",
      "           0       0.86      1.00      0.92      2499\n",
      "           1       0.00      0.00      0.00       414\n",
      "\n",
      "    accuracy                           0.86      2913\n",
      "   macro avg       0.43      0.50      0.46      2913\n",
      "weighted avg       0.74      0.86      0.79      2913\n",
      " \n",
      "Report SVM \n",
      "                precision    recall  f1-score   support\n",
      "\n",
      "           0       0.86      1.00      0.92      2499\n",
      "           1       0.00      0.00      0.00       414\n",
      "\n",
      "    accuracy                           0.86      2913\n",
      "   macro avg       0.43      0.50      0.46      2913\n",
      "weighted avg       0.74      0.86      0.79      2913\n",
      "\n"
     ]
    }
   ],
   "source": [
    "from sklearn.model_selection import cross_val_score\n",
    "import pandas as pd\n",
    "from sklearn.model_selection import train_test_split\n",
    "from sklearn.ensemble import RandomForestClassifier\n",
    "from sklearn.svm import SVC\n",
    "from sklearn.metrics import classification_report, accuracy_score\n",
    "from sklearn.preprocessing import StandardScaler, LabelEncoder\n",
    "from sklearn.pipeline import Pipeline\n",
    "\n",
    "data = pd.read_csv(\"N:\\\\Projects\\\\DMML Project\\\\DMML Data Sets\\\\credit_card_approval.csv\")\n",
    "\n",
    "data = data.drop(columns=['ID'])\n",
    "missing_values = data.isnull().sum()\n",
    "if missing_values.any():\n",
    "    print(\"Missing values detected:\")\n",
    "    print(missing_values)\n",
    "    \n",
    "    print(\"\\nHandling missing values...\")\n",
    "    data = data.fillna(data.median())\n",
    "else:\n",
    "    print(\"No missing values detected.\")\n",
    "\n",
    "label_encoders = {}\n",
    "for column in data.select_dtypes(include=['object']).columns:\n",
    "    le = LabelEncoder()\n",
    "    data[column] = le.fit_transform(data[column])\n",
    "    label_encoders[column] = le\n",
    "\n",
    "X = data.drop('Target', axis=1)\n",
    "y = data['Target']\n",
    "\n",
    "X_train, X_test, y_train, y_test = train_test_split(X, y, test_size=0.3, random_state=42)\n",
    "\n",
    "# Random Forest Classifier Pipeline\n",
    "rf_pipeline = Pipeline([\n",
    "    ('scaler', StandardScaler()),\n",
    "    ('rf', RandomForestClassifier(random_state=42))])\n",
    "\n",
    "# Support Vector Machine (SVM) Pipeline\n",
    "svm_pipeline = Pipeline([\n",
    "    ('scaler', StandardScaler()),\n",
    "    ('svm', SVC(random_state=42))])\n",
    "\n",
    "# Train both models\n",
    "rf_pipeline.fit(X_train, y_train)\n",
    "svm_pipeline.fit(X_train, y_train)\n",
    "\n",
    "# Predict and evaluate Random Forest model\n",
    "rf_preds = rf_pipeline.predict(X_test)\n",
    "rf_accuracy = accuracy_score(y_test, rf_preds)\n",
    "rf_report = classification_report(y_test, rf_preds)\n",
    "\n",
    "# Predict and evaluate SVM model\n",
    "svm_preds = svm_pipeline.predict(X_test)\n",
    "svm_accuracy = accuracy_score(y_test, svm_preds)\n",
    "svm_report = classification_report(y_test, svm_preds)\n",
    "\n",
    "from sklearn.model_selection import cross_val_score\n",
    "\n",
    "# Cross-validation for Random Forest\n",
    "rf_cv_scores = cross_val_score(rf_pipeline, X, y, cv=5)\n",
    "rf_cv_mean = rf_cv_scores.mean()\n",
    "\n",
    "# Cross-validation for SVM\n",
    "svm_cv_scores = cross_val_score(svm_pipeline, X, y, cv=5)\n",
    "svm_cv_mean = svm_cv_scores.mean()\n",
    "\n",
    "print(f\"Random Forest Cross-Validation Accuracy: {rf_cv_mean:.5f}\")\n",
    "print(f\"SVM Cross-Validation Accuracy: {svm_cv_mean:.5f}\")\n",
    "\n",
    "print(\"\\nReport: \\n\",rf_report, \"\\nReport SVM \\n \",svm_report)"
   ]
  },
  {
   "cell_type": "code",
   "execution_count": null,
   "id": "cd6d6642-94f7-492b-bd5f-26a1bfea7b86",
   "metadata": {},
   "outputs": [],
   "source": []
  }
 ],
 "metadata": {
  "kernelspec": {
   "display_name": "Python 3 (ipykernel)",
   "language": "python",
   "name": "python3"
  },
  "language_info": {
   "codemirror_mode": {
    "name": "ipython",
    "version": 3
   },
   "file_extension": ".py",
   "mimetype": "text/x-python",
   "name": "python",
   "nbconvert_exporter": "python",
   "pygments_lexer": "ipython3",
   "version": "3.12.4"
  }
 },
 "nbformat": 4,
 "nbformat_minor": 5
}
